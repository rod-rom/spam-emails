{
  "nbformat": 4,
  "nbformat_minor": 0,
  "metadata": {
    "colab": {
      "provenance": []
    },
    "kernelspec": {
      "name": "python3",
      "display_name": "Python 3"
    },
    "language_info": {
      "name": "python"
    }
  },
  "cells": [
    {
      "cell_type": "markdown",
      "source": [
        "You are required to fuse three classifiers using the majority voting rule: (1) Decision Tree, (2) Gaussian Naïve Bayes, and (3) Logistic Regression. Then compare the accuracy of the fused model with: (4) AdaBoost Ensemble with Decision Trees as the base learner, and (5) Random Forests. Use Python SciKit (https://scikit-learn.org) or R (https://www.r-project.org) to perform classification on the data discussed below.\n",
        "\n",
        "-----\n",
        "Data: Use the data file (spam.data) posted under ‘Project Assignment 1’ folder, Files, Canvas. The dataset classifies email messages as spam or ham (two classes).  There are 57 attributes that encode the number of times that certain words or characters occur. The dataset contains a total of 4601 instances."
      ],
      "metadata": {
        "id": "aDYW8spWTw5n"
      }
    },
    {
      "cell_type": "code",
      "execution_count": null,
      "metadata": {
        "colab": {
          "base_uri": "https://localhost:8080/",
          "height": 36
        },
        "id": "30LBvVGb6Qii",
        "outputId": "ab685f59-7e50-4d0f-e6d8-3c1145293aec"
      },
      "outputs": [
        {
          "output_type": "execute_result",
          "data": {
            "text/plain": [
              "'1.3.5'"
            ],
            "application/vnd.google.colaboratory.intrinsic+json": {
              "type": "string"
            }
          },
          "metadata": {},
          "execution_count": 1
        }
      ],
      "source": [
        "import pandas as pd\n",
        "pd.__version__"
      ]
    },
    {
      "cell_type": "code",
      "source": [
        "#Mouting the drive to load a simple dataset stored on the google drive\n",
        "from google.colab import drive\n",
        "drive.mount('/content/drive')"
      ],
      "metadata": {
        "colab": {
          "base_uri": "https://localhost:8080/"
        },
        "id": "VqzMg_mv6Vm-",
        "outputId": "41101401-ce4d-4e65-f0c4-d0c091b4f2a7"
      },
      "execution_count": null,
      "outputs": [
        {
          "output_type": "stream",
          "name": "stdout",
          "text": [
            "Drive already mounted at /content/drive; to attempt to forcibly remount, call drive.mount(\"/content/drive\", force_remount=True).\n"
          ]
        }
      ]
    },
    {
      "cell_type": "code",
      "source": [
        "#Loading a dataset into a dataframe\n",
        "#Use describe(), info(), head() functions to get simple statistics and a description of the dataset \n",
        "spam_dataset_dataframe = pd.read_csv(\"/content/drive/My Drive/Colab Notebooks/DTSC 620 (Statistics for Data Science)/data/spam.csv\", sep = ',')\n",
        "#drop rows where at least one element is missing\n",
        "spam_dataset_dataframe.dropna(inplace=True)\n",
        "print('Dataset Loaded...')\n",
        "spam_dataset_dataframe.describe()"
      ],
      "metadata": {
        "colab": {
          "base_uri": "https://localhost:8080/",
          "height": 411
        },
        "id": "FaBFCp9c6uJk",
        "outputId": "f8657428-42a9-495d-d58e-1eac0d4a7f0d"
      },
      "execution_count": null,
      "outputs": [
        {
          "output_type": "stream",
          "name": "stdout",
          "text": [
            "Dataset Loaded...\n"
          ]
        },
        {
          "output_type": "execute_result",
          "data": {
            "text/plain": [
              "              make      address          all           3d          our  \\\n",
              "count  4601.000000  4601.000000  4601.000000  4601.000000  4601.000000   \n",
              "mean      0.104553     0.213015     0.280656     0.065425     0.312223   \n",
              "std       0.305358     1.290575     0.504143     1.395151     0.672513   \n",
              "min       0.000000     0.000000     0.000000     0.000000     0.000000   \n",
              "25%       0.000000     0.000000     0.000000     0.000000     0.000000   \n",
              "50%       0.000000     0.000000     0.000000     0.000000     0.000000   \n",
              "75%       0.000000     0.000000     0.420000     0.000000     0.380000   \n",
              "max       4.540000    14.280000     5.100000    42.810000    10.000000   \n",
              "\n",
              "              over       remove     internet        order         mail  ...  \\\n",
              "count  4601.000000  4601.000000  4601.000000  4601.000000  4601.000000  ...   \n",
              "mean      0.095901     0.114208     0.105295     0.090067     0.239413  ...   \n",
              "std       0.273824     0.391441     0.401071     0.278616     0.644755  ...   \n",
              "min       0.000000     0.000000     0.000000     0.000000     0.000000  ...   \n",
              "25%       0.000000     0.000000     0.000000     0.000000     0.000000  ...   \n",
              "50%       0.000000     0.000000     0.000000     0.000000     0.000000  ...   \n",
              "75%       0.000000     0.000000     0.000000     0.000000     0.160000  ...   \n",
              "max       5.880000     7.270000    11.110000     5.260000    18.180000  ...   \n",
              "\n",
              "        conference      semicol        paren      bracket         bang  \\\n",
              "count  4601.000000  4601.000000  4601.000000  4601.000000  4601.000000   \n",
              "mean      0.031869     0.038575     0.139030     0.016976     0.269071   \n",
              "std       0.285735     0.243471     0.270355     0.109394     0.815672   \n",
              "min       0.000000     0.000000     0.000000     0.000000     0.000000   \n",
              "25%       0.000000     0.000000     0.000000     0.000000     0.000000   \n",
              "50%       0.000000     0.000000     0.065000     0.000000     0.000000   \n",
              "75%       0.000000     0.000000     0.188000     0.000000     0.315000   \n",
              "max      10.000000     4.385000     9.752000     4.081000    32.478000   \n",
              "\n",
              "            dollar        pound      cap_avg     cap_long     cap_total  \n",
              "count  4601.000000  4601.000000  4601.000000  4601.000000   4601.000000  \n",
              "mean      0.075811     0.044238     5.191515    52.172789    283.289285  \n",
              "std       0.245882     0.429342    31.729449   194.891310    606.347851  \n",
              "min       0.000000     0.000000     1.000000     1.000000      1.000000  \n",
              "25%       0.000000     0.000000     1.588000     6.000000     35.000000  \n",
              "50%       0.000000     0.000000     2.276000    15.000000     95.000000  \n",
              "75%       0.052000     0.000000     3.706000    43.000000    266.000000  \n",
              "max       6.003000    19.829000  1102.500000  9989.000000  15841.000000  \n",
              "\n",
              "[8 rows x 57 columns]"
            ],
            "text/html": [
              "\n",
              "  <div id=\"df-8547adac-773c-43bf-8842-091050172d61\">\n",
              "    <div class=\"colab-df-container\">\n",
              "      <div>\n",
              "<style scoped>\n",
              "    .dataframe tbody tr th:only-of-type {\n",
              "        vertical-align: middle;\n",
              "    }\n",
              "\n",
              "    .dataframe tbody tr th {\n",
              "        vertical-align: top;\n",
              "    }\n",
              "\n",
              "    .dataframe thead th {\n",
              "        text-align: right;\n",
              "    }\n",
              "</style>\n",
              "<table border=\"1\" class=\"dataframe\">\n",
              "  <thead>\n",
              "    <tr style=\"text-align: right;\">\n",
              "      <th></th>\n",
              "      <th>make</th>\n",
              "      <th>address</th>\n",
              "      <th>all</th>\n",
              "      <th>3d</th>\n",
              "      <th>our</th>\n",
              "      <th>over</th>\n",
              "      <th>remove</th>\n",
              "      <th>internet</th>\n",
              "      <th>order</th>\n",
              "      <th>mail</th>\n",
              "      <th>...</th>\n",
              "      <th>conference</th>\n",
              "      <th>semicol</th>\n",
              "      <th>paren</th>\n",
              "      <th>bracket</th>\n",
              "      <th>bang</th>\n",
              "      <th>dollar</th>\n",
              "      <th>pound</th>\n",
              "      <th>cap_avg</th>\n",
              "      <th>cap_long</th>\n",
              "      <th>cap_total</th>\n",
              "    </tr>\n",
              "  </thead>\n",
              "  <tbody>\n",
              "    <tr>\n",
              "      <th>count</th>\n",
              "      <td>4601.000000</td>\n",
              "      <td>4601.000000</td>\n",
              "      <td>4601.000000</td>\n",
              "      <td>4601.000000</td>\n",
              "      <td>4601.000000</td>\n",
              "      <td>4601.000000</td>\n",
              "      <td>4601.000000</td>\n",
              "      <td>4601.000000</td>\n",
              "      <td>4601.000000</td>\n",
              "      <td>4601.000000</td>\n",
              "      <td>...</td>\n",
              "      <td>4601.000000</td>\n",
              "      <td>4601.000000</td>\n",
              "      <td>4601.000000</td>\n",
              "      <td>4601.000000</td>\n",
              "      <td>4601.000000</td>\n",
              "      <td>4601.000000</td>\n",
              "      <td>4601.000000</td>\n",
              "      <td>4601.000000</td>\n",
              "      <td>4601.000000</td>\n",
              "      <td>4601.000000</td>\n",
              "    </tr>\n",
              "    <tr>\n",
              "      <th>mean</th>\n",
              "      <td>0.104553</td>\n",
              "      <td>0.213015</td>\n",
              "      <td>0.280656</td>\n",
              "      <td>0.065425</td>\n",
              "      <td>0.312223</td>\n",
              "      <td>0.095901</td>\n",
              "      <td>0.114208</td>\n",
              "      <td>0.105295</td>\n",
              "      <td>0.090067</td>\n",
              "      <td>0.239413</td>\n",
              "      <td>...</td>\n",
              "      <td>0.031869</td>\n",
              "      <td>0.038575</td>\n",
              "      <td>0.139030</td>\n",
              "      <td>0.016976</td>\n",
              "      <td>0.269071</td>\n",
              "      <td>0.075811</td>\n",
              "      <td>0.044238</td>\n",
              "      <td>5.191515</td>\n",
              "      <td>52.172789</td>\n",
              "      <td>283.289285</td>\n",
              "    </tr>\n",
              "    <tr>\n",
              "      <th>std</th>\n",
              "      <td>0.305358</td>\n",
              "      <td>1.290575</td>\n",
              "      <td>0.504143</td>\n",
              "      <td>1.395151</td>\n",
              "      <td>0.672513</td>\n",
              "      <td>0.273824</td>\n",
              "      <td>0.391441</td>\n",
              "      <td>0.401071</td>\n",
              "      <td>0.278616</td>\n",
              "      <td>0.644755</td>\n",
              "      <td>...</td>\n",
              "      <td>0.285735</td>\n",
              "      <td>0.243471</td>\n",
              "      <td>0.270355</td>\n",
              "      <td>0.109394</td>\n",
              "      <td>0.815672</td>\n",
              "      <td>0.245882</td>\n",
              "      <td>0.429342</td>\n",
              "      <td>31.729449</td>\n",
              "      <td>194.891310</td>\n",
              "      <td>606.347851</td>\n",
              "    </tr>\n",
              "    <tr>\n",
              "      <th>min</th>\n",
              "      <td>0.000000</td>\n",
              "      <td>0.000000</td>\n",
              "      <td>0.000000</td>\n",
              "      <td>0.000000</td>\n",
              "      <td>0.000000</td>\n",
              "      <td>0.000000</td>\n",
              "      <td>0.000000</td>\n",
              "      <td>0.000000</td>\n",
              "      <td>0.000000</td>\n",
              "      <td>0.000000</td>\n",
              "      <td>...</td>\n",
              "      <td>0.000000</td>\n",
              "      <td>0.000000</td>\n",
              "      <td>0.000000</td>\n",
              "      <td>0.000000</td>\n",
              "      <td>0.000000</td>\n",
              "      <td>0.000000</td>\n",
              "      <td>0.000000</td>\n",
              "      <td>1.000000</td>\n",
              "      <td>1.000000</td>\n",
              "      <td>1.000000</td>\n",
              "    </tr>\n",
              "    <tr>\n",
              "      <th>25%</th>\n",
              "      <td>0.000000</td>\n",
              "      <td>0.000000</td>\n",
              "      <td>0.000000</td>\n",
              "      <td>0.000000</td>\n",
              "      <td>0.000000</td>\n",
              "      <td>0.000000</td>\n",
              "      <td>0.000000</td>\n",
              "      <td>0.000000</td>\n",
              "      <td>0.000000</td>\n",
              "      <td>0.000000</td>\n",
              "      <td>...</td>\n",
              "      <td>0.000000</td>\n",
              "      <td>0.000000</td>\n",
              "      <td>0.000000</td>\n",
              "      <td>0.000000</td>\n",
              "      <td>0.000000</td>\n",
              "      <td>0.000000</td>\n",
              "      <td>0.000000</td>\n",
              "      <td>1.588000</td>\n",
              "      <td>6.000000</td>\n",
              "      <td>35.000000</td>\n",
              "    </tr>\n",
              "    <tr>\n",
              "      <th>50%</th>\n",
              "      <td>0.000000</td>\n",
              "      <td>0.000000</td>\n",
              "      <td>0.000000</td>\n",
              "      <td>0.000000</td>\n",
              "      <td>0.000000</td>\n",
              "      <td>0.000000</td>\n",
              "      <td>0.000000</td>\n",
              "      <td>0.000000</td>\n",
              "      <td>0.000000</td>\n",
              "      <td>0.000000</td>\n",
              "      <td>...</td>\n",
              "      <td>0.000000</td>\n",
              "      <td>0.000000</td>\n",
              "      <td>0.065000</td>\n",
              "      <td>0.000000</td>\n",
              "      <td>0.000000</td>\n",
              "      <td>0.000000</td>\n",
              "      <td>0.000000</td>\n",
              "      <td>2.276000</td>\n",
              "      <td>15.000000</td>\n",
              "      <td>95.000000</td>\n",
              "    </tr>\n",
              "    <tr>\n",
              "      <th>75%</th>\n",
              "      <td>0.000000</td>\n",
              "      <td>0.000000</td>\n",
              "      <td>0.420000</td>\n",
              "      <td>0.000000</td>\n",
              "      <td>0.380000</td>\n",
              "      <td>0.000000</td>\n",
              "      <td>0.000000</td>\n",
              "      <td>0.000000</td>\n",
              "      <td>0.000000</td>\n",
              "      <td>0.160000</td>\n",
              "      <td>...</td>\n",
              "      <td>0.000000</td>\n",
              "      <td>0.000000</td>\n",
              "      <td>0.188000</td>\n",
              "      <td>0.000000</td>\n",
              "      <td>0.315000</td>\n",
              "      <td>0.052000</td>\n",
              "      <td>0.000000</td>\n",
              "      <td>3.706000</td>\n",
              "      <td>43.000000</td>\n",
              "      <td>266.000000</td>\n",
              "    </tr>\n",
              "    <tr>\n",
              "      <th>max</th>\n",
              "      <td>4.540000</td>\n",
              "      <td>14.280000</td>\n",
              "      <td>5.100000</td>\n",
              "      <td>42.810000</td>\n",
              "      <td>10.000000</td>\n",
              "      <td>5.880000</td>\n",
              "      <td>7.270000</td>\n",
              "      <td>11.110000</td>\n",
              "      <td>5.260000</td>\n",
              "      <td>18.180000</td>\n",
              "      <td>...</td>\n",
              "      <td>10.000000</td>\n",
              "      <td>4.385000</td>\n",
              "      <td>9.752000</td>\n",
              "      <td>4.081000</td>\n",
              "      <td>32.478000</td>\n",
              "      <td>6.003000</td>\n",
              "      <td>19.829000</td>\n",
              "      <td>1102.500000</td>\n",
              "      <td>9989.000000</td>\n",
              "      <td>15841.000000</td>\n",
              "    </tr>\n",
              "  </tbody>\n",
              "</table>\n",
              "<p>8 rows × 57 columns</p>\n",
              "</div>\n",
              "      <button class=\"colab-df-convert\" onclick=\"convertToInteractive('df-8547adac-773c-43bf-8842-091050172d61')\"\n",
              "              title=\"Convert this dataframe to an interactive table.\"\n",
              "              style=\"display:none;\">\n",
              "        \n",
              "  <svg xmlns=\"http://www.w3.org/2000/svg\" height=\"24px\"viewBox=\"0 0 24 24\"\n",
              "       width=\"24px\">\n",
              "    <path d=\"M0 0h24v24H0V0z\" fill=\"none\"/>\n",
              "    <path d=\"M18.56 5.44l.94 2.06.94-2.06 2.06-.94-2.06-.94-.94-2.06-.94 2.06-2.06.94zm-11 1L8.5 8.5l.94-2.06 2.06-.94-2.06-.94L8.5 2.5l-.94 2.06-2.06.94zm10 10l.94 2.06.94-2.06 2.06-.94-2.06-.94-.94-2.06-.94 2.06-2.06.94z\"/><path d=\"M17.41 7.96l-1.37-1.37c-.4-.4-.92-.59-1.43-.59-.52 0-1.04.2-1.43.59L10.3 9.45l-7.72 7.72c-.78.78-.78 2.05 0 2.83L4 21.41c.39.39.9.59 1.41.59.51 0 1.02-.2 1.41-.59l7.78-7.78 2.81-2.81c.8-.78.8-2.07 0-2.86zM5.41 20L4 18.59l7.72-7.72 1.47 1.35L5.41 20z\"/>\n",
              "  </svg>\n",
              "      </button>\n",
              "      \n",
              "  <style>\n",
              "    .colab-df-container {\n",
              "      display:flex;\n",
              "      flex-wrap:wrap;\n",
              "      gap: 12px;\n",
              "    }\n",
              "\n",
              "    .colab-df-convert {\n",
              "      background-color: #E8F0FE;\n",
              "      border: none;\n",
              "      border-radius: 50%;\n",
              "      cursor: pointer;\n",
              "      display: none;\n",
              "      fill: #1967D2;\n",
              "      height: 32px;\n",
              "      padding: 0 0 0 0;\n",
              "      width: 32px;\n",
              "    }\n",
              "\n",
              "    .colab-df-convert:hover {\n",
              "      background-color: #E2EBFA;\n",
              "      box-shadow: 0px 1px 2px rgba(60, 64, 67, 0.3), 0px 1px 3px 1px rgba(60, 64, 67, 0.15);\n",
              "      fill: #174EA6;\n",
              "    }\n",
              "\n",
              "    [theme=dark] .colab-df-convert {\n",
              "      background-color: #3B4455;\n",
              "      fill: #D2E3FC;\n",
              "    }\n",
              "\n",
              "    [theme=dark] .colab-df-convert:hover {\n",
              "      background-color: #434B5C;\n",
              "      box-shadow: 0px 1px 3px 1px rgba(0, 0, 0, 0.15);\n",
              "      filter: drop-shadow(0px 1px 2px rgba(0, 0, 0, 0.3));\n",
              "      fill: #FFFFFF;\n",
              "    }\n",
              "  </style>\n",
              "\n",
              "      <script>\n",
              "        const buttonEl =\n",
              "          document.querySelector('#df-8547adac-773c-43bf-8842-091050172d61 button.colab-df-convert');\n",
              "        buttonEl.style.display =\n",
              "          google.colab.kernel.accessAllowed ? 'block' : 'none';\n",
              "\n",
              "        async function convertToInteractive(key) {\n",
              "          const element = document.querySelector('#df-8547adac-773c-43bf-8842-091050172d61');\n",
              "          const dataTable =\n",
              "            await google.colab.kernel.invokeFunction('convertToInteractive',\n",
              "                                                     [key], {});\n",
              "          if (!dataTable) return;\n",
              "\n",
              "          const docLinkHtml = 'Like what you see? Visit the ' +\n",
              "            '<a target=\"_blank\" href=https://colab.research.google.com/notebooks/data_table.ipynb>data table notebook</a>'\n",
              "            + ' to learn more about interactive tables.';\n",
              "          element.innerHTML = '';\n",
              "          dataTable['output_type'] = 'display_data';\n",
              "          await google.colab.output.renderOutput(dataTable, element);\n",
              "          const docLink = document.createElement('div');\n",
              "          docLink.innerHTML = docLinkHtml;\n",
              "          element.appendChild(docLink);\n",
              "        }\n",
              "      </script>\n",
              "    </div>\n",
              "  </div>\n",
              "  "
            ]
          },
          "metadata": {},
          "execution_count": 3
        }
      ]
    },
    {
      "cell_type": "code",
      "source": [
        "#Plot per feature histogram. figsize = (width, height)\n",
        "spam_dataset_dataframe.hist(bins=25,figsize=(15,10))"
      ],
      "metadata": {
        "colab": {
          "base_uri": "https://localhost:8080/",
          "height": 1000
        },
        "id": "7e5Nl2iP7A4L",
        "outputId": "2a494958-b000-4df7-c2fd-257b18dce5f7"
      },
      "execution_count": null,
      "outputs": [
        {
          "output_type": "execute_result",
          "data": {
            "text/plain": [
              "array([[<matplotlib.axes._subplots.AxesSubplot object at 0x7feef21bd250>,\n",
              "        <matplotlib.axes._subplots.AxesSubplot object at 0x7feef2168340>,\n",
              "        <matplotlib.axes._subplots.AxesSubplot object at 0x7feef217bd60>,\n",
              "        <matplotlib.axes._subplots.AxesSubplot object at 0x7feef206b370>,\n",
              "        <matplotlib.axes._subplots.AxesSubplot object at 0x7feef2098760>,\n",
              "        <matplotlib.axes._subplots.AxesSubplot object at 0x7feef2047ac0>,\n",
              "        <matplotlib.axes._subplots.AxesSubplot object at 0x7feef2047bb0>,\n",
              "        <matplotlib.axes._subplots.AxesSubplot object at 0x7feef2001070>],\n",
              "       [<matplotlib.axes._subplots.AxesSubplot object at 0x7feef1fd97f0>,\n",
              "        <matplotlib.axes._subplots.AxesSubplot object at 0x7feef1f85be0>,\n",
              "        <matplotlib.axes._subplots.AxesSubplot object at 0x7feef1f310a0>,\n",
              "        <matplotlib.axes._subplots.AxesSubplot object at 0x7feef1eec430>,\n",
              "        <matplotlib.axes._subplots.AxesSubplot object at 0x7feef1f1a820>,\n",
              "        <matplotlib.axes._subplots.AxesSubplot object at 0x7feef1ec7c10>,\n",
              "        <matplotlib.axes._subplots.AxesSubplot object at 0x7feef1e740a0>,\n",
              "        <matplotlib.axes._subplots.AxesSubplot object at 0x7feef1e2f460>],\n",
              "       [<matplotlib.axes._subplots.AxesSubplot object at 0x7feef1e5b880>,\n",
              "        <matplotlib.axes._subplots.AxesSubplot object at 0x7feef1e08c70>,\n",
              "        <matplotlib.axes._subplots.AxesSubplot object at 0x7feef1db4100>,\n",
              "        <matplotlib.axes._subplots.AxesSubplot object at 0x7feef1d70490>,\n",
              "        <matplotlib.axes._subplots.AxesSubplot object at 0x7feef1d9c880>,\n",
              "        <matplotlib.axes._subplots.AxesSubplot object at 0x7feef1d4acd0>,\n",
              "        <matplotlib.axes._subplots.AxesSubplot object at 0x7feef1cf7160>,\n",
              "        <matplotlib.axes._subplots.AxesSubplot object at 0x7feef1caf550>],\n",
              "       [<matplotlib.axes._subplots.AxesSubplot object at 0x7feef1cdd940>,\n",
              "        <matplotlib.axes._subplots.AxesSubplot object at 0x7feef1c8bd30>,\n",
              "        <matplotlib.axes._subplots.AxesSubplot object at 0x7feef1c43160>,\n",
              "        <matplotlib.axes._subplots.AxesSubplot object at 0x7feef1bf3550>,\n",
              "        <matplotlib.axes._subplots.AxesSubplot object at 0x7feef1c1e940>,\n",
              "        <matplotlib.axes._subplots.AxesSubplot object at 0x7feef1bcbd90>,\n",
              "        <matplotlib.axes._subplots.AxesSubplot object at 0x7feef1b851c0>,\n",
              "        <matplotlib.axes._subplots.AxesSubplot object at 0x7feef1b335b0>],\n",
              "       [<matplotlib.axes._subplots.AxesSubplot object at 0x7feef1ae2490>,\n",
              "        <matplotlib.axes._subplots.AxesSubplot object at 0x7feef1b0ebb0>,\n",
              "        <matplotlib.axes._subplots.AxesSubplot object at 0x7feef1ac3310>,\n",
              "        <matplotlib.axes._subplots.AxesSubplot object at 0x7feef1a6da30>,\n",
              "        <matplotlib.axes._subplots.AxesSubplot object at 0x7feef1a231f0>,\n",
              "        <matplotlib.axes._subplots.AxesSubplot object at 0x7feef1a4c910>,\n",
              "        <matplotlib.axes._subplots.AxesSubplot object at 0x7feef19f50d0>,\n",
              "        <matplotlib.axes._subplots.AxesSubplot object at 0x7feef19ad790>],\n",
              "       [<matplotlib.axes._subplots.AxesSubplot object at 0x7feef19d8eb0>,\n",
              "        <matplotlib.axes._subplots.AxesSubplot object at 0x7feef198d610>,\n",
              "        <matplotlib.axes._subplots.AxesSubplot object at 0x7feef1939e20>,\n",
              "        <matplotlib.axes._subplots.AxesSubplot object at 0x7feef18f04c0>,\n",
              "        <matplotlib.axes._subplots.AxesSubplot object at 0x7feef1919bb0>,\n",
              "        <matplotlib.axes._subplots.AxesSubplot object at 0x7feef18d0310>,\n",
              "        <matplotlib.axes._subplots.AxesSubplot object at 0x7feef1878a30>,\n",
              "        <matplotlib.axes._subplots.AxesSubplot object at 0x7feef1830190>],\n",
              "       [<matplotlib.axes._subplots.AxesSubplot object at 0x7feef18598b0>,\n",
              "        <matplotlib.axes._subplots.AxesSubplot object at 0x7feef1804fd0>,\n",
              "        <matplotlib.axes._subplots.AxesSubplot object at 0x7feef17b9730>,\n",
              "        <matplotlib.axes._subplots.AxesSubplot object at 0x7feef1765e50>,\n",
              "        <matplotlib.axes._subplots.AxesSubplot object at 0x7feef17995b0>,\n",
              "        <matplotlib.axes._subplots.AxesSubplot object at 0x7feef1744cd0>,\n",
              "        <matplotlib.axes._subplots.AxesSubplot object at 0x7feef16fa430>,\n",
              "        <matplotlib.axes._subplots.AxesSubplot object at 0x7feef16a4b50>],\n",
              "       [<matplotlib.axes._subplots.AxesSubplot object at 0x7feef16d92b0>,\n",
              "        <matplotlib.axes._subplots.AxesSubplot object at 0x7feef1683970>,\n",
              "        <matplotlib.axes._subplots.AxesSubplot object at 0x7feef195d4c0>,\n",
              "        <matplotlib.axes._subplots.AxesSubplot object at 0x7feef1fb6280>,\n",
              "        <matplotlib.axes._subplots.AxesSubplot object at 0x7feef1ed8d00>,\n",
              "        <matplotlib.axes._subplots.AxesSubplot object at 0x7feef1d2ae80>,\n",
              "        <matplotlib.axes._subplots.AxesSubplot object at 0x7feef1bf3a60>,\n",
              "        <matplotlib.axes._subplots.AxesSubplot object at 0x7feef1580bb0>]],\n",
              "      dtype=object)"
            ]
          },
          "metadata": {},
          "execution_count": 4
        },
        {
          "output_type": "display_data",
          "data": {
            "text/plain": [
              "<Figure size 1080x720 with 64 Axes>"
            ],
            "image/png": "[encoded data removed]"
          },
          "metadata": {
            "needs_background": "light"
          }
        }
      ]
    },
    {
      "cell_type": "code",
      "source": [
        "import numpy as np\n",
        "from sklearn.model_selection import train_test_split"
      ],
      "metadata": {
        "id": "WQJ4qz496zQx"
      },
      "execution_count": null,
      "outputs": []
    },
    {
      "cell_type": "code",
      "source": [
        "X = spam_dataset_dataframe[['make', 'address', 'all', '3d', 'our', 'over', 'remove', 'internet',\n",
        "       'order', 'mail', 'receive', 'will', 'people', 'report', 'addresses',\n",
        "       'free', 'business', 'email', 'you', 'credit', 'your', 'font', '0',\n",
        "       'money', 'hp', 'hpl', 'george', '650', 'lab', 'labs', 'telnet', '857',\n",
        "       'data', '415', '85', 'technology', '1999', 'parts', 'pm', 'direct',\n",
        "       'cs', 'meeting', 'original', 'project', 're', 'edu', 'table',\n",
        "       'conference', 'semicol', 'paren', 'bracket', 'bang', 'dollar', 'pound',\n",
        "       'cap_avg', 'cap_long', 'cap_total']]\n",
        "y = spam_dataset_dataframe[\"Class\"]"
      ],
      "metadata": {
        "id": "hcc8kBvGCv-9"
      },
      "execution_count": null,
      "outputs": []
    },
    {
      "cell_type": "code",
      "source": [
        "(spam_training_data, spam_test_data, spam_training_target, spam_test_target) = train_test_split(X,y, test_size=3601,random_state=42)"
      ],
      "metadata": {
        "id": "n4kM-nSL60h4"
      },
      "execution_count": null,
      "outputs": []
    },
    {
      "cell_type": "code",
      "source": [
        "from sklearn.ensemble import RandomForestClassifier\n",
        "from sklearn import tree\n",
        "from sklearn.tree import DecisionTreeClassifier\n",
        "from sklearn.naive_bayes import GaussianNB\n",
        "from sklearn.ensemble import AdaBoostClassifier, VotingClassifier\n",
        "from sklearn.linear_model import LogisticRegression\n",
        "from sklearn.metrics import confusion_matrix\n",
        "from sklearn.metrics import classification_report\n",
        "from sklearn.metrics import accuracy_score\n",
        "\n",
        "clf_dt = DecisionTreeClassifier(criterion = \"entropy\")\n",
        "clf_lr = LogisticRegression(max_iter=2000) #was obtaining a ConvergenceWarning so I increased the # of max interations to fix it, default is 100\n",
        "clf_gnb = GaussianNB()\n",
        "clf_rf = RandomForestClassifier(n_estimators=1000)\n",
        "clf_ada = AdaBoostClassifier(base_estimator=DecisionTreeClassifier()) \n",
        "eclf = VotingClassifier(estimators = [('DT', clf_dt),('LR',clf_lr),('GNB',clf_gnb)], voting ='hard')"
      ],
      "metadata": {
        "id": "12finIY17ej3"
      },
      "execution_count": null,
      "outputs": []
    },
    {
      "cell_type": "code",
      "source": [
        "%%timeit\n",
        "eclf.fit(spam_training_data,spam_training_target)"
      ],
      "metadata": {
        "colab": {
          "base_uri": "https://localhost:8080/"
        },
        "id": "GC76YNkU-yLA",
        "outputId": "fe4a9ec3-3d27-4c57-8c91-cd8c71e3a6e4"
      },
      "execution_count": null,
      "outputs": [
        {
          "output_type": "stream",
          "name": "stdout",
          "text": [
            "1.05 s ± 628 ms per loop (mean ± std. dev. of 7 runs, 1 loop each)\n"
          ]
        }
      ]
    },
    {
      "cell_type": "code",
      "source": [
        "%%timeit\n",
        "clf_ada.fit(spam_training_data,spam_training_target)"
      ],
      "metadata": {
        "colab": {
          "base_uri": "https://localhost:8080/"
        },
        "id": "XLhIxyLQ9g1h",
        "outputId": "f777d289-567d-454a-f303-3301faa16422"
      },
      "execution_count": null,
      "outputs": [
        {
          "output_type": "stream",
          "name": "stdout",
          "text": [
            "24.3 ms ± 769 µs per loop (mean ± std. dev. of 7 runs, 10 loops each)\n"
          ]
        }
      ]
    },
    {
      "cell_type": "code",
      "source": [
        "%%timeit\n",
        "clf_rf.fit(spam_training_data,spam_training_target)"
      ],
      "metadata": {
        "colab": {
          "base_uri": "https://localhost:8080/"
        },
        "id": "FX4UIBjc_J87",
        "outputId": "2782241f-ea30-4cda-9801-9b6bfdcdef78"
      },
      "execution_count": null,
      "outputs": [
        {
          "output_type": "stream",
          "name": "stdout",
          "text": [
            "2.51 s ± 25.5 ms per loop (mean ± std. dev. of 7 runs, 1 loop each)\n"
          ]
        }
      ]
    },
    {
      "cell_type": "code",
      "source": [
        "print(\"Using fused model\")\n",
        "spam_test_target_predict =eclf.predict(spam_test_data)\n",
        "print(confusion_matrix(spam_test_target,spam_test_target_predict))\n",
        "print(classification_report(spam_test_target,spam_test_target_predict))\n",
        "print(\"Fused Model Accuracy: \",accuracy_score(spam_test_target,spam_test_target_predict))\n",
        "per_class = confusion_matrix(spam_test_target,spam_test_target_predict).diagonal()/confusion_matrix(spam_test_target,spam_test_target_predict).sum(axis=1)\n",
        "print(\"Per class accuracy for ham: \", per_class[0])\n",
        "print(\"Per class accuracy for spam: \", per_class[1])"
      ],
      "metadata": {
        "colab": {
          "base_uri": "https://localhost:8080/"
        },
        "id": "Q_G9HMvk8R_Q",
        "outputId": "2d6da5bc-3553-4d00-b729-251cbabcabeb"
      },
      "execution_count": null,
      "outputs": [
        {
          "output_type": "stream",
          "name": "stdout",
          "text": [
            "Using fused model\n",
            "[[1980  205]\n",
            " [  87 1329]]\n",
            "              precision    recall  f1-score   support\n",
            "\n",
            "         ham       0.96      0.91      0.93      2185\n",
            "        spam       0.87      0.94      0.90      1416\n",
            "\n",
            "    accuracy                           0.92      3601\n",
            "   macro avg       0.91      0.92      0.92      3601\n",
            "weighted avg       0.92      0.92      0.92      3601\n",
            "\n",
            "Fused Model Accuracy:  0.918911413496251\n",
            "Per class accuracy for ham:  0.9061784897025171\n",
            "Per class accuracy for spam:  0.9385593220338984\n"
          ]
        }
      ]
    },
    {
      "cell_type": "code",
      "source": [
        "print(\"Using AdaBoost model\")\n",
        "spam_test_target_predict =clf_ada.predict(spam_test_data)\n",
        "print(confusion_matrix(spam_test_target,spam_test_target_predict))\n",
        "print(classification_report(spam_test_target,spam_test_target_predict))\n",
        "print(\"AdaBoost Accuracy: \",accuracy_score(spam_test_target,spam_test_target_predict))\n",
        "per_class = confusion_matrix(spam_test_target,spam_test_target_predict).diagonal()/confusion_matrix(spam_test_target,spam_test_target_predict).sum(axis=1)\n",
        "print(\"Per class accuracy for ham: \", per_class[0])\n",
        "print(\"Per class accuracy for spam: \", per_class[1])"
      ],
      "metadata": {
        "colab": {
          "base_uri": "https://localhost:8080/"
        },
        "id": "051bRKxp9uhX",
        "outputId": "1ff0cc64-1e3f-4fef-925c-518ae1ec61d3"
      },
      "execution_count": null,
      "outputs": [
        {
          "output_type": "stream",
          "name": "stdout",
          "text": [
            "Using AdaBoost model\n",
            "[[1917  268]\n",
            " [ 175 1241]]\n",
            "              precision    recall  f1-score   support\n",
            "\n",
            "         ham       0.92      0.88      0.90      2185\n",
            "        spam       0.82      0.88      0.85      1416\n",
            "\n",
            "    accuracy                           0.88      3601\n",
            "   macro avg       0.87      0.88      0.87      3601\n",
            "weighted avg       0.88      0.88      0.88      3601\n",
            "\n",
            "AdaBoost Accuracy:  0.8769786170508193\n",
            "Per class accuracy for ham:  0.8773455377574371\n",
            "Per class accuracy for spam:  0.876412429378531\n"
          ]
        }
      ]
    },
    {
      "cell_type": "code",
      "source": [
        "print(\"Using RandomForest model\")\n",
        "spam_test_target_predict =clf_rf.predict(spam_test_data)\n",
        "print(confusion_matrix(spam_test_target,spam_test_target_predict))\n",
        "print(classification_report(spam_test_target,spam_test_target_predict))\n",
        "print(\"Random Forest Accuracy: \", accuracy_score(spam_test_target,spam_test_target_predict))\n",
        "per_class = confusion_matrix(spam_test_target,spam_test_target_predict).diagonal()/confusion_matrix(spam_test_target,spam_test_target_predict).sum(axis=1)\n",
        "print(\"Per class accuracy for ham: \", per_class[0])\n",
        "print(\"Per class accuracy for spam: \", per_class[1])"
      ],
      "metadata": {
        "colab": {
          "base_uri": "https://localhost:8080/"
        },
        "id": "GYlkWxLF_M14",
        "outputId": "eeb85358-949e-497d-a127-788bd2d35afc"
      },
      "execution_count": null,
      "outputs": [
        {
          "output_type": "stream",
          "name": "stdout",
          "text": [
            "Using RandomForest model\n",
            "[[2074  111]\n",
            " [ 126 1290]]\n",
            "              precision    recall  f1-score   support\n",
            "\n",
            "         ham       0.94      0.95      0.95      2185\n",
            "        spam       0.92      0.91      0.92      1416\n",
            "\n",
            "    accuracy                           0.93      3601\n",
            "   macro avg       0.93      0.93      0.93      3601\n",
            "weighted avg       0.93      0.93      0.93      3601\n",
            "\n",
            "Random Forest Accuracy:  0.9341849486253818\n",
            "Per class accuracy for ham:  0.9491990846681923\n",
            "Per class accuracy for spam:  0.9110169491525424\n"
          ]
        }
      ]
    },
    {
      "cell_type": "markdown",
      "source": [
        "### Testing accuracies using different training-testing splits\n"
      ],
      "metadata": {
        "id": "UH2elJ96_osK"
      }
    },
    {
      "cell_type": "code",
      "source": [
        "splits = [0.5,0.4,0.3,0.2]\n",
        "for split in splits:\n",
        "  (X_train, X_test, y_train, y_test) = train_test_split(X,y, test_size=split,random_state=42)\n",
        "  eclf.fit(X_train,y_train)\n",
        "  clf_ada.fit(X_train,y_train)\n",
        "  train_split = 1.0 - split\n",
        "  test_split = split * 100\n",
        "  train_split = 100.0 - test_split\n",
        "  print(\"--------------------------------------------------\\nTrain and Test split:    %{0} - %{1}\\n\".format(train_split,test_split))\n",
        "  print(\"Using fused model\")\n",
        "  spam_test_target_predict =eclf.predict(X_test)\n",
        "  print(confusion_matrix(y_test,spam_test_target_predict))\n",
        "  print(classification_report(y_test,spam_test_target_predict))\n",
        "  print(\"Model Accuracy: \", accuracy_score(y_test,spam_test_target_predict))\n",
        "  per_class = confusion_matrix(y_test,spam_test_target_predict).diagonal()/confusion_matrix(y_test,spam_test_target_predict).sum(axis=1)\n",
        "  print(\"Per class accuracy for ham: \", per_class[0])\n",
        "  print(\"Per class accuracy for spam: \", per_class[1])\n",
        "  print()\n",
        "  print(\"Using AdaBoost model\")\n",
        "  spam_test_target_predict = clf_ada.predict(X_test)\n",
        "  print(confusion_matrix(y_test,spam_test_target_predict))\n",
        "  print(classification_report(y_test,spam_test_target_predict))\n",
        "  print(\"Model Accuracy: \", accuracy_score(y_test,spam_test_target_predict))\n",
        "  per_class = confusion_matrix(y_test,spam_test_target_predict).diagonal()/confusion_matrix(y_test,spam_test_target_predict).sum(axis=1)\n",
        "  print(\"Per class accuracy for ham: \", per_class[0])\n",
        "  print(\"Per class accuracy for spam: \", per_class[1])\n",
        "  print()"
      ],
      "metadata": {
        "colab": {
          "base_uri": "https://localhost:8080/"
        },
        "id": "6VWTzmZGIuk1",
        "outputId": "97063f22-84fb-4150-b444-6211600e10bf"
      },
      "execution_count": null,
      "outputs": [
        {
          "output_type": "stream",
          "name": "stdout",
          "text": [
            "--------------------------------------------------\n",
            "Train and Test split:    %50.0 - %50.0\n",
            "\n",
            "Using fused model\n",
            "[[1283  118]\n",
            " [  48  852]]\n",
            "              precision    recall  f1-score   support\n",
            "\n",
            "         ham       0.96      0.92      0.94      1401\n",
            "        spam       0.88      0.95      0.91       900\n",
            "\n",
            "    accuracy                           0.93      2301\n",
            "   macro avg       0.92      0.93      0.93      2301\n",
            "weighted avg       0.93      0.93      0.93      2301\n",
            "\n",
            "Model Accuracy:  0.9278574532811821\n",
            "Per class accuracy for ham:  0.9157744468236974\n",
            "Per class accuracy for spam:  0.9466666666666667\n",
            "\n",
            "Using AdaBoost model\n",
            "[[1267  134]\n",
            " [ 102  798]]\n",
            "              precision    recall  f1-score   support\n",
            "\n",
            "         ham       0.93      0.90      0.91      1401\n",
            "        spam       0.86      0.89      0.87       900\n",
            "\n",
            "    accuracy                           0.90      2301\n",
            "   macro avg       0.89      0.90      0.89      2301\n",
            "weighted avg       0.90      0.90      0.90      2301\n",
            "\n",
            "Model Accuracy:  0.8974358974358975\n",
            "Per class accuracy for ham:  0.9043540328336902\n",
            "Per class accuracy for spam:  0.8866666666666667\n",
            "\n",
            "--------------------------------------------------\n",
            "Train and Test split:    %60.0 - %40.0\n",
            "\n",
            "Using fused model\n",
            "[[1043   91]\n",
            " [  38  669]]\n",
            "              precision    recall  f1-score   support\n",
            "\n",
            "         ham       0.96      0.92      0.94      1134\n",
            "        spam       0.88      0.95      0.91       707\n",
            "\n",
            "    accuracy                           0.93      1841\n",
            "   macro avg       0.92      0.93      0.93      1841\n",
            "weighted avg       0.93      0.93      0.93      1841\n",
            "\n",
            "Model Accuracy:  0.9299293862031505\n",
            "Per class accuracy for ham:  0.9197530864197531\n",
            "Per class accuracy for spam:  0.9462517680339463\n",
            "\n",
            "Using AdaBoost model\n",
            "[[1018  116]\n",
            " [  73  634]]\n",
            "              precision    recall  f1-score   support\n",
            "\n",
            "         ham       0.93      0.90      0.92      1134\n",
            "        spam       0.85      0.90      0.87       707\n",
            "\n",
            "    accuracy                           0.90      1841\n",
            "   macro avg       0.89      0.90      0.89      1841\n",
            "weighted avg       0.90      0.90      0.90      1841\n",
            "\n",
            "Model Accuracy:  0.8973384030418251\n",
            "Per class accuracy for ham:  0.8977072310405644\n",
            "Per class accuracy for spam:  0.8967468175388967\n",
            "\n",
            "--------------------------------------------------\n",
            "Train and Test split:    %70.0 - %30.0\n",
            "\n",
            "Using fused model\n",
            "[[769  68]\n",
            " [ 32 512]]\n",
            "              precision    recall  f1-score   support\n",
            "\n",
            "         ham       0.96      0.92      0.94       837\n",
            "        spam       0.88      0.94      0.91       544\n",
            "\n",
            "    accuracy                           0.93      1381\n",
            "   macro avg       0.92      0.93      0.92      1381\n",
            "weighted avg       0.93      0.93      0.93      1381\n",
            "\n",
            "Model Accuracy:  0.9275887038377987\n",
            "Per class accuracy for ham:  0.918757467144564\n",
            "Per class accuracy for spam:  0.9411764705882353\n",
            "\n",
            "Using AdaBoost model\n",
            "[[763  74]\n",
            " [ 58 486]]\n",
            "              precision    recall  f1-score   support\n",
            "\n",
            "         ham       0.93      0.91      0.92       837\n",
            "        spam       0.87      0.89      0.88       544\n",
            "\n",
            "    accuracy                           0.90      1381\n",
            "   macro avg       0.90      0.90      0.90      1381\n",
            "weighted avg       0.91      0.90      0.90      1381\n",
            "\n",
            "Model Accuracy:  0.9044170890658942\n",
            "Per class accuracy for ham:  0.9115890083632019\n",
            "Per class accuracy for spam:  0.8933823529411765\n",
            "\n",
            "--------------------------------------------------\n",
            "Train and Test split:    %80.0 - %20.0\n",
            "\n",
            "Using fused model\n",
            "[[512  43]\n",
            " [ 23 343]]\n",
            "              precision    recall  f1-score   support\n",
            "\n",
            "         ham       0.96      0.92      0.94       555\n",
            "        spam       0.89      0.94      0.91       366\n",
            "\n",
            "    accuracy                           0.93       921\n",
            "   macro avg       0.92      0.93      0.93       921\n",
            "weighted avg       0.93      0.93      0.93       921\n",
            "\n",
            "Model Accuracy:  0.9283387622149837\n",
            "Per class accuracy for ham:  0.9225225225225225\n",
            "Per class accuracy for spam:  0.9371584699453552\n",
            "\n",
            "Using AdaBoost model\n",
            "[[523  32]\n",
            " [ 30 336]]\n",
            "              precision    recall  f1-score   support\n",
            "\n",
            "         ham       0.95      0.94      0.94       555\n",
            "        spam       0.91      0.92      0.92       366\n",
            "\n",
            "    accuracy                           0.93       921\n",
            "   macro avg       0.93      0.93      0.93       921\n",
            "weighted avg       0.93      0.93      0.93       921\n",
            "\n",
            "Model Accuracy:  0.9326818675352877\n",
            "Per class accuracy for ham:  0.9423423423423424\n",
            "Per class accuracy for spam:  0.9180327868852459\n",
            "\n"
          ]
        }
      ]
    }
  ]
}